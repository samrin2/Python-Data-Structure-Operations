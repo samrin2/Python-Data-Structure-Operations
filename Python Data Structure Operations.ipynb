{
 "cells": [
  {
   "cell_type": "code",
   "execution_count": 2,
   "id": "09dac5b0-68fb-46ce-9f95-7fc9d8553485",
   "metadata": {},
   "outputs": [
    {
     "name": "stdout",
     "output_type": "stream",
     "text": [
      "updated list: [10, 2, 4, 5, 6]\n"
     ]
    }
   ],
   "source": [
    "#creating a list \n",
    "my_list = [1,2,3,4,5]\n",
    "\n",
    "#adding a element to alist\n",
    "my_list.append(6)\n",
    "\n",
    "#removing an element from the list \n",
    "my_list.remove(3)\n",
    "\n",
    "#modifying an elemnt in the list\n",
    "my_list[0] = 10\n",
    "\n",
    "print(\"updated list:\",my_list)\n"
   ]
  },
  {
   "cell_type": "code",
   "execution_count": 4,
   "id": "f3756b05-33fe-4997-8a9c-ad2c454ee9d1",
   "metadata": {},
   "outputs": [
    {
     "name": "stdout",
     "output_type": "stream",
     "text": [
      "Updated dictionary: {'name': 'john', 'city': 'Delhi', 'gender': 'Male'}\n"
     ]
    }
   ],
   "source": [
    "#create a dictionary \n",
    "my_dict = {'name':'john', 'age':25, 'city':'mumbai'}\n",
    "\n",
    "#aading a Key- value pair to a dictionary\n",
    "my_dict['gender'] = 'Male'\n",
    "\n",
    "#removing a key-value pair from a dictionary\n",
    "del my_dict['age']\n",
    "\n",
    "#modifying a value in a dictionary\n",
    "my_dict['city'] = 'Delhi'\n",
    "\n",
    "print(\"Updated dictionary:\",my_dict)"
   ]
  },
  {
   "cell_type": "code",
   "execution_count": 5,
   "id": "6516c20a-082f-4bfb-a403-2dc9b4781a3f",
   "metadata": {},
   "outputs": [
    {
     "name": "stdout",
     "output_type": "stream",
     "text": [
      "Updated Set: {1, 2, 4, 5, 6, 10}\n"
     ]
    }
   ],
   "source": [
    "#creating a set\n",
    "my_set = {1,2,3,4,5}\n",
    "\n",
    "#adding an element to a set\n",
    "my_set.add(6)\n",
    "\n",
    "#Removing an element to a set\n",
    "my_set.remove(3)\n",
    "\n",
    "#modifying value in set\n",
    "my_set.add(10)\n",
    "\n",
    "print(\"Updated Set:\",my_set)"
   ]
  },
  {
   "cell_type": "code",
   "execution_count": 6,
   "id": "7ef0df9e-2e66-4a38-8daa-06dfd3b1bdba",
   "metadata": {},
   "outputs": [
    {
     "name": "stdout",
     "output_type": "stream",
     "text": [
      "2\n"
     ]
    }
   ],
   "source": [
    "#creating a tuple\n",
    "my_tuple = (1,2,3,4)\n",
    "\n",
    "#Accessing  an element in a tuple\n",
    "print(my_tuple[1])\n",
    "\n"
   ]
  },
  {
   "cell_type": "code",
   "execution_count": null,
   "id": "931ca0cf-547e-49cf-8d1d-eda1bcfc5ecf",
   "metadata": {},
   "outputs": [],
   "source": []
  }
 ],
 "metadata": {
  "kernelspec": {
   "display_name": "Python 3 (ipykernel)",
   "language": "python",
   "name": "python3"
  },
  "language_info": {
   "codemirror_mode": {
    "name": "ipython",
    "version": 3
   },
   "file_extension": ".py",
   "mimetype": "text/x-python",
   "name": "python",
   "nbconvert_exporter": "python",
   "pygments_lexer": "ipython3",
   "version": "3.11.7"
  }
 },
 "nbformat": 4,
 "nbformat_minor": 5
}
